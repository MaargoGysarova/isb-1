{
 "cells": [
  {
   "cell_type": "code",
   "execution_count": 49,
   "outputs": [],
   "source": [
    "import random"
   ],
   "metadata": {
    "collapsed": false
   }
  },
  {
   "cell_type": "code",
   "execution_count": 50,
   "outputs": [],
   "source": [
    "text = 'ученица ибаса представляет Вам свою лабораторную работу по ОИБ'"
   ],
   "metadata": {
    "collapsed": false
   }
  },
  {
   "cell_type": "markdown",
   "source": [
    "Функция создания списка из уникальных букв в исходном тексте"
   ],
   "metadata": {
    "collapsed": false
   }
  },
  {
   "cell_type": "code",
   "execution_count": 51,
   "outputs": [],
   "source": [
    "def get_word_in_text(text):\n",
    "    word_list = list(set(text))\n",
    "    print(word_list)\n",
    "    return word_list"
   ],
   "metadata": {
    "collapsed": false
   }
  },
  {
   "cell_type": "code",
   "execution_count": 52,
   "outputs": [
    {
     "name": "stdout",
     "output_type": "stream",
     "text": [
      "['е', 'Б', ' ', 'н', 'л', 'ч', 'О', 'ю', 'т', 'с', 'п', 'м', 'ц', 'б', 'я', 'и', 'у', 'И', 'в', 'о', 'д', 'р', 'а', 'В']\n"
     ]
    },
    {
     "data": {
      "text/plain": "['е',\n 'Б',\n ' ',\n 'н',\n 'л',\n 'ч',\n 'О',\n 'ю',\n 'т',\n 'с',\n 'п',\n 'м',\n 'ц',\n 'б',\n 'я',\n 'и',\n 'у',\n 'И',\n 'в',\n 'о',\n 'д',\n 'р',\n 'а',\n 'В']"
     },
     "execution_count": 52,
     "metadata": {},
     "output_type": "execute_result"
    }
   ],
   "source": [
    "get_word_in_text(text)"
   ],
   "metadata": {
    "collapsed": false
   }
  },
  {
   "cell_type": "markdown",
   "source": [
    "Функция создания списка из случайных букв английского языка размером количества уникальных букв в исходном тексте"
   ],
   "metadata": {
    "collapsed": false
   }
  },
  {
   "cell_type": "code",
   "execution_count": 53,
   "outputs": [],
   "source": [
    "def alpha(n):\n",
    "    mlist = []\n",
    "    rand = [i for i in range(97, 97 + n)]\n",
    "    random.shuffle(rand)\n",
    "    for i in rand:\n",
    "        mlist.append(chr(i))\n",
    "    return mlist"
   ],
   "metadata": {
    "collapsed": false
   }
  },
  {
   "cell_type": "markdown",
   "source": [
    "print(alpha(len(get_word_in_text(text))))"
   ],
   "metadata": {
    "collapsed": false
   }
  },
  {
   "cell_type": "markdown",
   "source": [
    "Функция записи в файл заштфрованный текст и ключ к нему (пригодится в след функции )"
   ],
   "metadata": {
    "collapsed": false
   }
  },
  {
   "cell_type": "code",
   "execution_count": 54,
   "outputs": [],
   "source": [
    "def write_file(text, key):\n",
    "    with open('shifr.txt', \"w+\") as f:\n",
    "        f.write(text)\n",
    "        f.write('\\nКлюч:\\n')\n",
    "        for key, value in key.items():\n",
    "            f.write('%s:%s\\n' % (key, value))"
   ],
   "metadata": {
    "collapsed": false
   }
  },
  {
   "cell_type": "markdown",
   "source": [
    "Основная функция шифрования: меняет буквы из двух списков и записывает сразу ключи в словарь(пара: буква-ключ)\n",
    "После шифрования записывает в файл"
   ],
   "metadata": {
    "collapsed": false
   }
  },
  {
   "cell_type": "code",
   "execution_count": 55,
   "outputs": [],
   "source": [
    "def shifr(text):\n",
    "    key = {}\n",
    "    count_word = len(get_word_in_text(text))\n",
    "    change_words = alpha(count_word)\n",
    "    print(f'rfrf{change_words}')\n",
    "    print(get_word_in_text(text))\n",
    "    print(f'буквы,которые заменят {change_words}')\n",
    "    print(f'буквы исходного текста {get_word_in_text(text)}')\n",
    "    j = 0\n",
    "    for i in (get_word_in_text(text)):\n",
    "        print(i)\n",
    "        change_word = change_words[j]\n",
    "        key[change_word] = i\n",
    "        text = text.replace(i, change_word)\n",
    "        j = j + 1\n",
    "    print(f'зашифрованный текст:\\n{text}')\n",
    "    print(f'ключ:\\n{key}')\n",
    "    write_file(text, key)"
   ],
   "metadata": {
    "collapsed": false
   }
  },
  {
   "cell_type": "code",
   "execution_count": 56,
   "outputs": [
    {
     "name": "stdout",
     "output_type": "stream",
     "text": [
      "['е', 'Б', ' ', 'н', 'л', 'ч', 'О', 'ю', 'т', 'с', 'п', 'м', 'ц', 'б', 'я', 'и', 'у', 'И', 'в', 'о', 'д', 'р', 'а', 'В']\n",
      "rfrf['q', 'x', 'p', 'e', 'm', 'v', 'b', 'n', 'k', 't', 'o', 'i', 'd', 'f', 'w', 'u', 'l', 'h', 'c', 's', 'j', 'r', 'a', 'g']\n",
      "['е', 'Б', ' ', 'н', 'л', 'ч', 'О', 'ю', 'т', 'с', 'п', 'м', 'ц', 'б', 'я', 'и', 'у', 'И', 'в', 'о', 'д', 'р', 'а', 'В']\n",
      "['е', 'Б', ' ', 'н', 'л', 'ч', 'О', 'ю', 'т', 'с', 'п', 'м', 'ц', 'б', 'я', 'и', 'у', 'И', 'в', 'о', 'д', 'р', 'а', 'В']\n",
      "буквы,которые заменят ['q', 'x', 'p', 'e', 'm', 'v', 'b', 'n', 'k', 't', 'o', 'i', 'd', 'f', 'w', 'u', 'l', 'h', 'c', 's', 'j', 'r', 'a', 'g']\n",
      "['е', 'Б', ' ', 'н', 'л', 'ч', 'О', 'ю', 'т', 'с', 'п', 'м', 'ц', 'б', 'я', 'и', 'у', 'И', 'в', 'о', 'д', 'р', 'а', 'В']\n",
      "буквы исходного текста ['е', 'Б', ' ', 'н', 'л', 'ч', 'О', 'ю', 'т', 'с', 'п', 'м', 'ц', 'б', 'я', 'и', 'у', 'И', 'в', 'о', 'д', 'р', 'а', 'В']\n",
      "['е', 'Б', ' ', 'н', 'л', 'ч', 'О', 'ю', 'т', 'с', 'п', 'м', 'ц', 'б', 'я', 'и', 'у', 'И', 'в', 'о', 'д', 'р', 'а', 'В']\n",
      "е\n",
      "Б\n",
      " \n",
      "н\n",
      "л\n",
      "ч\n",
      "О\n",
      "ю\n",
      "т\n",
      "с\n",
      "п\n",
      "м\n",
      "ц\n",
      "б\n",
      "я\n",
      "и\n",
      "у\n",
      "И\n",
      "в\n",
      "о\n",
      "д\n",
      "р\n",
      "а\n",
      "В\n",
      "зашифрованный текст:\n",
      "lvqeudapufataporqjtkacmwqkpgaiptcsnpmafsraksrelnprafsklpospbhx\n",
      "ключ:\n",
      "{'q': 'е', 'x': 'Б', 'p': ' ', 'e': 'н', 'm': 'л', 'v': 'ч', 'b': 'О', 'n': 'ю', 'k': 'т', 't': 'с', 'o': 'п', 'i': 'м', 'd': 'ц', 'f': 'б', 'w': 'я', 'u': 'и', 'l': 'у', 'h': 'И', 'c': 'в', 's': 'о', 'j': 'д', 'r': 'р', 'a': 'а', 'g': 'В'}\n"
     ]
    }
   ],
   "source": [
    "shifr(text)"
   ],
   "metadata": {
    "collapsed": false
   }
  }
 ],
 "metadata": {
  "kernelspec": {
   "display_name": "Python 3",
   "language": "python",
   "name": "python3"
  },
  "language_info": {
   "codemirror_mode": {
    "name": "ipython",
    "version": 2
   },
   "file_extension": ".py",
   "mimetype": "text/x-python",
   "name": "python",
   "nbconvert_exporter": "python",
   "pygments_lexer": "ipython2",
   "version": "2.7.6"
  }
 },
 "nbformat": 4,
 "nbformat_minor": 0
}
